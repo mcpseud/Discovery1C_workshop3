{
 "cells": [
  {
   "cell_type": "markdown",
   "metadata": {},
   "source": [
    "# Pre-Workshop Self-Study: Functions in Python\n",
    "\n",
    "This notebook is designed to help you practice and strengthen your understanding of Python functions before the workshop. Complete the exercises below and feel free to experiment with the code to deepen your learning.\n"
   ]
  },
  {
   "cell_type": "markdown",
   "metadata": {},
   "source": [
    "## 1. Introduction to Functions\n",
    "\n",
    "In Python, a function is defined using the `def` keyword. Here's an example of a simple function:\n",
    "\n",
    "```python\n",
    "def greet():\n",
    "    return \"Hello, World!\"\n",
    "```\n",
    "\n",
    "You can call this function by typing its name followed by parentheses:\n",
    "\n",
    "```python\n",
    "greet()\n",
    "```\n",
    "\n",
    "### Exercise\n",
    "Write a function named `say_hello` that returns the string \"Hi there, Python!\" when called."
   ]
  },
  {
   "cell_type": "code",
   "execution_count": null,
   "metadata": {},
   "outputs": [],
   "source": [
    "# Your code here\n",
    "def say_hello():\n",
    "    pass  # Replace 'pass' with your code"
   ]
  },
  {
   "cell_type": "markdown",
   "metadata": {},
   "source": [
    "## 2. Functions with Parameters\n",
    "\n",
    "Functions can accept inputs called parameters. For example:\n",
    "\n",
    "```python\n",
    "def multiply(a, b):\n",
    "    return a * b\n",
    "```\n",
    "\n",
    "You can call this function by passing two numbers as arguments:\n",
    "\n",
    "```python\n",
    "multiply(3, 5)  # Returns 15\n",
    "```\n",
    "\n",
    "### Exercises\n",
    "1. Write a function named `square` that takes a number as input and returns its square.\n",
    "2. Write a function named `average` that takes two numbers as input and returns their average."
   ]
  },
  {
   "cell_type": "code",
   "execution_count": null,
   "metadata": {},
   "outputs": [],
   "source": [
    "# Your code here\n",
    "def square(x):\n",
    "    pass  # Replace 'pass' with your code\n",
    "\n",
    "def average(a, b):\n",
    "    pass  # Replace 'pass' with your code"
   ]
  },
  {
   "cell_type": "markdown",
   "metadata": {},
   "source": [
    "## 3. Conditional Logic in Functions\n",
    "\n",
    "Functions can include conditional statements (`if`, `elif`, `else`) to make decisions.\n",
    "\n",
    "```python\n",
    "def check_sign(x):\n",
    "    if x > 0:\n",
    "        return \"Positive\"\n",
    "    elif x < 0:\n",
    "        return \"Negative\"\n",
    "    else:\n",
    "        return \"Zero\"\n",
    "```\n",
    "\n",
    "### Exercise\n",
    "Write a function named `temperature_category` that takes a temperature in Celsius as input and returns:\n",
    "- \"Cold\" if the temperature is below 15.\n",
    "- \"Warm\" if the temperature is between 15 and 25.\n",
    "- \"Hot\" if the temperature is above 25."
   ]
  },
  {
   "cell_type": "code",
   "execution_count": null,
   "metadata": {},
   "outputs": [],
   "source": [
    "# Your code here\n",
    "def temperature_category(temp):\n",
    "    pass  # Replace 'pass' with your code"
   ]
  },
  {
   "cell_type": "markdown",
   "metadata": {},
   "source": [
    "## 4. Functions with Randomness\n",
    "\n",
    "The `random` module allows you to generate random numbers. For example:\n",
    "\n",
    "```python\n",
    "import random\n",
    "\n",
    "def generate_random_number():\n",
    "    return random.randint(1, 10)\n",
    "```\n",
    "\n",
    "### Exercise\n",
    "Write a function named `roll_six_sided_die` that simulates rolling a six-sided die and returns the result."
   ]
  },
  {
   "cell_type": "code",
   "execution_count": null,
   "metadata": {},
   "outputs": [],
   "source": [
    "# Your code here\n",
    "import random\n",
    "\n",
    "def roll_six_sided_die():\n",
    "    pass  # Replace 'pass' with your code"
   ]
  },
  {
   "cell_type": "markdown",
   "metadata": {},
   "source": [
    "## 5. Functions with Multiple Return Values\n",
    "\n",
    "A function can return multiple values as a tuple. For example:\n",
    "\n",
    "```python\n",
    "def calculate_differences(a, b):\n",
    "    return a - b, b - a\n",
    "```\n",
    "\n",
    "### Exercise\n",
    "Write a function named `sum_and_product` that takes two numbers as input and returns their sum and product."
   ]
  },
  {
   "cell_type": "code",
   "execution_count": null,
   "metadata": {},
   "outputs": [],
   "source": [
    "# Your code here\n",
    "def sum_and_product(a, b):\n",
    "    pass  # Replace 'pass' with your code"
   ]
  },
  {
   "cell_type": "markdown",
   "metadata": {},
   "source": [
    "## 6. Debugging Functions\n",
    "\n",
    "Sometimes, functions contain errors. Debugging involves identifying and fixing these errors.\n",
    "\n",
    "### Exercise\n",
    "Below is a buggy function. Fix it so that it works correctly:\n",
    "\n",
    "```python\n",
    "def buggy_function(x, y):\n",
    "    if x > y\n",
    "        print(\"x is larger\"\n",
    "    else:\n",
    "        return y\n",
    "```"
   ]
  },
  {
   "cell_type": "code",
   "execution_count": null,
   "metadata": {},
   "outputs": [],
   "source": [
    "# Your code here\n",
    "def buggy_function(x, y):\n",
    "    if x > y:  # Fix syntax error\n",
    "        return \"x is larger\"\n",
    "    else:\n",
    "        return y"
   ]
  }
 ],
 "metadata": {
  "kernelspec": {
   "display_name": "Python 3 (ipykernel)",
   "language": "python",
   "name": "python3"
  },
  "language_info": {
   "name": "python",
   "version": "3.9.13"
  }
 },
 "nbformat": 4,
 "nbformat_minor": 5
}
